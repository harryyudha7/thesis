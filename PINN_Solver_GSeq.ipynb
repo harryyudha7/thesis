{
 "cells": [
  {
   "attachments": {},
   "cell_type": "markdown",
   "metadata": {},
   "source": [
    "Import library and define function"
   ]
  },
  {
   "cell_type": "code",
   "execution_count": 1,
   "metadata": {},
   "outputs": [],
   "source": [
    "# Import TensorFlow and NumPy\n",
    "import tensorflow as tf\n",
    "import numpy as np\n",
    "\n",
    "# Set data type\n",
    "DTYPE='float32'\n",
    "tf.keras.backend.set_floatx(DTYPE)\n",
    "\n",
    "# Set constants\n",
    "pi = tf.constant(np.pi, dtype=DTYPE)\n",
    "# viscosity = .01/pi\n",
    "\n",
    "# Define initial condition\n",
    "# def fun_u_0(x):\n",
    "#     return -tf.sin(pi * x)\n",
    "\n",
    "# Define boundary condition\n",
    "def fun_u_b(t, x):\n",
    "    n = x.shape[0]\n",
    "    return tf.zeros((n,1), dtype=DTYPE)\n",
    "\n",
    "# Define residual of the PDE\n",
    "def fun_r(r, z, phi, phi_r, phi_rr, phi_z, phi_zz):\n",
    "    return "
   ]
  },
  {
   "cell_type": "markdown",
   "metadata": {},
   "source": []
  }
 ],
 "metadata": {
  "kernelspec": {
   "display_name": "Python 3",
   "language": "python",
   "name": "python3"
  },
  "language_info": {
   "codemirror_mode": {
    "name": "ipython",
    "version": 3
   },
   "file_extension": ".py",
   "mimetype": "text/x-python",
   "name": "python",
   "nbconvert_exporter": "python",
   "pygments_lexer": "ipython3",
   "version": "3.10.10"
  },
  "orig_nbformat": 4
 },
 "nbformat": 4,
 "nbformat_minor": 2
}
